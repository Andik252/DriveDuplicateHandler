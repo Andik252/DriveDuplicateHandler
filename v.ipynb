{
  "cells": [
    {
      "cell_type": "code",
      "execution_count": null,
      "id": "1",
      "metadata": {},
      "outputs": [],
      "source": [
        "from google.colab import auth\n",
        "from googleapiclient.discovery import build\n",
        "from googleapiclient.errors import HttpError\n",
        "from google.colab import files\n",
        "auth.authenticate_user()\n",
        "service = build('drive', 'v3')\n",
        "def list_files_in_folder_recursive(folder_id):\n",
        "  # Your function code here\n",
        "def find_duplicate_files(files):\n",
        "  # Your function code here\n",
        "def remove_file_from_folder(file_id, folder_id):\n",
        "  # Your function code here\n",
        "def write_output_to_file(output, filename=\"output.txt\"):\n",
        "  # Your function code here\n",
        "def prompt_for_download(output):\n",
        "  # Your function code here\n",
        "def process_duplicates(folder_id):\n",
        "  # Your function code here\n",
        "def list_main_and_shortcut_folders_in_my_drive(exclude_folders):\n",
        "  # Your function code here\n",
        "def main_program():\n",
        "  # Your main program code here\n",
        "if __name__ == \"__main__\":\n",
        "  try:\n",
        "    main_program()\n",
        "  except KeyboardInterrupt:\n",
        "    print(\"Program dihentikan oleh pengguna. Tidak ada error.\")\n",
        "  except Exception as e:\n",
        "    print(f\"Terjadi error tak terduga: {e}\")\n"
      ]
    }
  ],
  "metadata": {},
  "nbformat": 4,
  "nbformat_minor": 5
}
